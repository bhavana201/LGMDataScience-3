{
  "nbformat": 4,
  "nbformat_minor": 0,
  "metadata": {
    "colab": {
      "name": "task3.ipynb",
      "provenance": [],
      "collapsed_sections": [],
      "toc_visible": true
    },
    "kernelspec": {
      "name": "python3",
      "display_name": "Python 3"
    },
    "language_info": {
      "name": "python"
    }
  },
  "cells": [
    {
      "cell_type": "markdown",
      "source": [
        "LetsGrowMore (LGMVIP)- May 2022\n",
        "Data Science intern - Vembadi Bhavana\n",
        "BEGINNER LEVEL TASK\n",
        "Task 3 - Stock Market Prediction and Forecasting using stacked LSTM"
      ],
      "metadata": {
        "id": "hjBSnyzX9t6z"
      }
    },
    {
      "cell_type": "code",
      "source": [
        "from sklearn.preprocessing import MinMaxScaler\n",
        "from tensorflow.keras.models import Sequential\n",
        "from tensorflow.keras.layers import Dense\n",
        "from tensorflow.keras.layers import LSTM\n",
        "from sklearn.metrics import mean_squared_error\n",
        "\n",
        "import matplotlib.pyplot as plt\n",
        "import seaborn as sns\n",
        "import warnings \n",
        "import pandas as pd\n",
        "import numpy as np\n",
        "import math \n",
        "warnings.filterwarnings('ignore')"
      ],
      "metadata": {
        "id": "jX7bGfvk-av8"
      },
      "execution_count": 5,
      "outputs": []
    },
    {
      "cell_type": "code",
      "source": [
        "d = pd.read_csv('https://raw.githubusercontent.com/mwitiderrick/stockprice/master/NSE-TATAGLOBAL.csv')\n",
        "d.head()"
      ],
      "metadata": {
        "colab": {
          "base_uri": "https://localhost:8080/",
          "height": 354
        },
        "id": "JuiQf_o1-g9p",
        "outputId": "6d59ccc1-7b2f-4e88-edea-daa21dc061cc"
      },
      "execution_count": 6,
      "outputs": [
        {
          "output_type": "execute_result",
          "data": {
            "text/plain": [
              "         Date    Open    High     Low    Last   Close  Total Trade Quantity  \\\n",
              "0  2018-09-28  234.05  235.95  230.20  233.50  233.75               3069914   \n",
              "1  2018-09-27  234.55  236.80  231.10  233.80  233.25               5082859   \n",
              "2  2018-09-26  240.00  240.00  232.50  235.00  234.25               2240909   \n",
              "3  2018-09-25  233.30  236.75  232.00  236.25  236.10               2349368   \n",
              "4  2018-09-24  233.55  239.20  230.75  234.00  233.30               3423509   \n",
              "\n",
              "   Turnover (Lacs)  \n",
              "0          7162.35  \n",
              "1         11859.95  \n",
              "2          5248.60  \n",
              "3          5503.90  \n",
              "4          7999.55  "
            ],
            "text/html": [
              "\n",
              "  <div id=\"df-1c1016d5-74aa-426a-ae71-f047beea1f65\">\n",
              "    <div class=\"colab-df-container\">\n",
              "      <div>\n",
              "<style scoped>\n",
              "    .dataframe tbody tr th:only-of-type {\n",
              "        vertical-align: middle;\n",
              "    }\n",
              "\n",
              "    .dataframe tbody tr th {\n",
              "        vertical-align: top;\n",
              "    }\n",
              "\n",
              "    .dataframe thead th {\n",
              "        text-align: right;\n",
              "    }\n",
              "</style>\n",
              "<table border=\"1\" class=\"dataframe\">\n",
              "  <thead>\n",
              "    <tr style=\"text-align: right;\">\n",
              "      <th></th>\n",
              "      <th>Date</th>\n",
              "      <th>Open</th>\n",
              "      <th>High</th>\n",
              "      <th>Low</th>\n",
              "      <th>Last</th>\n",
              "      <th>Close</th>\n",
              "      <th>Total Trade Quantity</th>\n",
              "      <th>Turnover (Lacs)</th>\n",
              "    </tr>\n",
              "  </thead>\n",
              "  <tbody>\n",
              "    <tr>\n",
              "      <th>0</th>\n",
              "      <td>2018-09-28</td>\n",
              "      <td>234.05</td>\n",
              "      <td>235.95</td>\n",
              "      <td>230.20</td>\n",
              "      <td>233.50</td>\n",
              "      <td>233.75</td>\n",
              "      <td>3069914</td>\n",
              "      <td>7162.35</td>\n",
              "    </tr>\n",
              "    <tr>\n",
              "      <th>1</th>\n",
              "      <td>2018-09-27</td>\n",
              "      <td>234.55</td>\n",
              "      <td>236.80</td>\n",
              "      <td>231.10</td>\n",
              "      <td>233.80</td>\n",
              "      <td>233.25</td>\n",
              "      <td>5082859</td>\n",
              "      <td>11859.95</td>\n",
              "    </tr>\n",
              "    <tr>\n",
              "      <th>2</th>\n",
              "      <td>2018-09-26</td>\n",
              "      <td>240.00</td>\n",
              "      <td>240.00</td>\n",
              "      <td>232.50</td>\n",
              "      <td>235.00</td>\n",
              "      <td>234.25</td>\n",
              "      <td>2240909</td>\n",
              "      <td>5248.60</td>\n",
              "    </tr>\n",
              "    <tr>\n",
              "      <th>3</th>\n",
              "      <td>2018-09-25</td>\n",
              "      <td>233.30</td>\n",
              "      <td>236.75</td>\n",
              "      <td>232.00</td>\n",
              "      <td>236.25</td>\n",
              "      <td>236.10</td>\n",
              "      <td>2349368</td>\n",
              "      <td>5503.90</td>\n",
              "    </tr>\n",
              "    <tr>\n",
              "      <th>4</th>\n",
              "      <td>2018-09-24</td>\n",
              "      <td>233.55</td>\n",
              "      <td>239.20</td>\n",
              "      <td>230.75</td>\n",
              "      <td>234.00</td>\n",
              "      <td>233.30</td>\n",
              "      <td>3423509</td>\n",
              "      <td>7999.55</td>\n",
              "    </tr>\n",
              "  </tbody>\n",
              "</table>\n",
              "</div>\n",
              "      <button class=\"colab-df-convert\" onclick=\"convertToInteractive('df-1c1016d5-74aa-426a-ae71-f047beea1f65')\"\n",
              "              title=\"Convert this dataframe to an interactive table.\"\n",
              "              style=\"display:none;\">\n",
              "        \n",
              "  <svg xmlns=\"http://www.w3.org/2000/svg\" height=\"24px\"viewBox=\"0 0 24 24\"\n",
              "       width=\"24px\">\n",
              "    <path d=\"M0 0h24v24H0V0z\" fill=\"none\"/>\n",
              "    <path d=\"M18.56 5.44l.94 2.06.94-2.06 2.06-.94-2.06-.94-.94-2.06-.94 2.06-2.06.94zm-11 1L8.5 8.5l.94-2.06 2.06-.94-2.06-.94L8.5 2.5l-.94 2.06-2.06.94zm10 10l.94 2.06.94-2.06 2.06-.94-2.06-.94-.94-2.06-.94 2.06-2.06.94z\"/><path d=\"M17.41 7.96l-1.37-1.37c-.4-.4-.92-.59-1.43-.59-.52 0-1.04.2-1.43.59L10.3 9.45l-7.72 7.72c-.78.78-.78 2.05 0 2.83L4 21.41c.39.39.9.59 1.41.59.51 0 1.02-.2 1.41-.59l7.78-7.78 2.81-2.81c.8-.78.8-2.07 0-2.86zM5.41 20L4 18.59l7.72-7.72 1.47 1.35L5.41 20z\"/>\n",
              "  </svg>\n",
              "      </button>\n",
              "      \n",
              "  <style>\n",
              "    .colab-df-container {\n",
              "      display:flex;\n",
              "      flex-wrap:wrap;\n",
              "      gap: 12px;\n",
              "    }\n",
              "\n",
              "    .colab-df-convert {\n",
              "      background-color: #E8F0FE;\n",
              "      border: none;\n",
              "      border-radius: 50%;\n",
              "      cursor: pointer;\n",
              "      display: none;\n",
              "      fill: #1967D2;\n",
              "      height: 32px;\n",
              "      padding: 0 0 0 0;\n",
              "      width: 32px;\n",
              "    }\n",
              "\n",
              "    .colab-df-convert:hover {\n",
              "      background-color: #E2EBFA;\n",
              "      box-shadow: 0px 1px 2px rgba(60, 64, 67, 0.3), 0px 1px 3px 1px rgba(60, 64, 67, 0.15);\n",
              "      fill: #174EA6;\n",
              "    }\n",
              "\n",
              "    [theme=dark] .colab-df-convert {\n",
              "      background-color: #3B4455;\n",
              "      fill: #D2E3FC;\n",
              "    }\n",
              "\n",
              "    [theme=dark] .colab-df-convert:hover {\n",
              "      background-color: #434B5C;\n",
              "      box-shadow: 0px 1px 3px 1px rgba(0, 0, 0, 0.15);\n",
              "      filter: drop-shadow(0px 1px 2px rgba(0, 0, 0, 0.3));\n",
              "      fill: #FFFFFF;\n",
              "    }\n",
              "  </style>\n",
              "\n",
              "      <script>\n",
              "        const buttonEl =\n",
              "          document.querySelector('#df-1c1016d5-74aa-426a-ae71-f047beea1f65 button.colab-df-convert');\n",
              "        buttonEl.style.display =\n",
              "          google.colab.kernel.accessAllowed ? 'block' : 'none';\n",
              "\n",
              "        async function convertToInteractive(key) {\n",
              "          const element = document.querySelector('#df-1c1016d5-74aa-426a-ae71-f047beea1f65');\n",
              "          const dataTable =\n",
              "            await google.colab.kernel.invokeFunction('convertToInteractive',\n",
              "                                                     [key], {});\n",
              "          if (!dataTable) return;\n",
              "\n",
              "          const docLinkHtml = 'Like what you see? Visit the ' +\n",
              "            '<a target=\"_blank\" href=https://colab.research.google.com/notebooks/data_table.ipynb>data table notebook</a>'\n",
              "            + ' to learn more about interactive tables.';\n",
              "          element.innerHTML = '';\n",
              "          dataTable['output_type'] = 'display_data';\n",
              "          await google.colab.output.renderOutput(dataTable, element);\n",
              "          const docLink = document.createElement('div');\n",
              "          docLink.innerHTML = docLinkHtml;\n",
              "          element.appendChild(docLink);\n",
              "        }\n",
              "      </script>\n",
              "    </div>\n",
              "  </div>\n",
              "  "
            ]
          },
          "metadata": {},
          "execution_count": 6
        }
      ]
    },
    {
      "cell_type": "code",
      "source": [
        "d.info()"
      ],
      "metadata": {
        "colab": {
          "base_uri": "https://localhost:8080/"
        },
        "id": "XFnXoT-f-l98",
        "outputId": "f3c018bb-4c2a-4023-88f3-de8a0ae0e257"
      },
      "execution_count": 7,
      "outputs": [
        {
          "output_type": "stream",
          "name": "stdout",
          "text": [
            "<class 'pandas.core.frame.DataFrame'>\n",
            "RangeIndex: 2035 entries, 0 to 2034\n",
            "Data columns (total 8 columns):\n",
            " #   Column                Non-Null Count  Dtype  \n",
            "---  ------                --------------  -----  \n",
            " 0   Date                  2035 non-null   object \n",
            " 1   Open                  2035 non-null   float64\n",
            " 2   High                  2035 non-null   float64\n",
            " 3   Low                   2035 non-null   float64\n",
            " 4   Last                  2035 non-null   float64\n",
            " 5   Close                 2035 non-null   float64\n",
            " 6   Total Trade Quantity  2035 non-null   int64  \n",
            " 7   Turnover (Lacs)       2035 non-null   float64\n",
            "dtypes: float64(6), int64(1), object(1)\n",
            "memory usage: 127.3+ KB\n"
          ]
        }
      ]
    },
    {
      "cell_type": "code",
      "source": [
        "d['Date'] = pd.to_datetime(d['Date'])\n",
        "d.dtypes"
      ],
      "metadata": {
        "colab": {
          "base_uri": "https://localhost:8080/"
        },
        "id": "Rx3rC6ic-qXE",
        "outputId": "4d905bae-f2ad-40b4-bbcf-cc0c70e88631"
      },
      "execution_count": 8,
      "outputs": [
        {
          "output_type": "execute_result",
          "data": {
            "text/plain": [
              "Date                    datetime64[ns]\n",
              "Open                           float64\n",
              "High                           float64\n",
              "Low                            float64\n",
              "Last                           float64\n",
              "Close                          float64\n",
              "Total Trade Quantity             int64\n",
              "Turnover (Lacs)                float64\n",
              "dtype: object"
            ]
          },
          "metadata": {},
          "execution_count": 8
        }
      ]
    },
    {
      "cell_type": "code",
      "source": [
        "d = d.sort_values('Date')\n",
        "d.head()"
      ],
      "metadata": {
        "colab": {
          "base_uri": "https://localhost:8080/",
          "height": 354
        },
        "id": "Cm9oEv8W-vZS",
        "outputId": "4ef26f2b-63b5-4656-98ae-618beae1069c"
      },
      "execution_count": 9,
      "outputs": [
        {
          "output_type": "execute_result",
          "data": {
            "text/plain": [
              "           Date   Open    High     Low    Last   Close  Total Trade Quantity  \\\n",
              "2034 2010-07-21  122.1  123.00  121.05  121.10  121.55                658666   \n",
              "2033 2010-07-22  120.3  122.00  120.25  120.75  120.90                293312   \n",
              "2032 2010-07-23  121.8  121.95  120.25  120.35  120.65                281312   \n",
              "2031 2010-07-26  120.1  121.00  117.10  117.10  117.60                658440   \n",
              "2030 2010-07-27  117.6  119.50  112.00  118.80  118.65                586100   \n",
              "\n",
              "      Turnover (Lacs)  \n",
              "2034           803.56  \n",
              "2033           355.17  \n",
              "2032           340.31  \n",
              "2031           780.01  \n",
              "2030           694.98  "
            ],
            "text/html": [
              "\n",
              "  <div id=\"df-53b9819d-0a36-4a58-9591-77f3ad633ef6\">\n",
              "    <div class=\"colab-df-container\">\n",
              "      <div>\n",
              "<style scoped>\n",
              "    .dataframe tbody tr th:only-of-type {\n",
              "        vertical-align: middle;\n",
              "    }\n",
              "\n",
              "    .dataframe tbody tr th {\n",
              "        vertical-align: top;\n",
              "    }\n",
              "\n",
              "    .dataframe thead th {\n",
              "        text-align: right;\n",
              "    }\n",
              "</style>\n",
              "<table border=\"1\" class=\"dataframe\">\n",
              "  <thead>\n",
              "    <tr style=\"text-align: right;\">\n",
              "      <th></th>\n",
              "      <th>Date</th>\n",
              "      <th>Open</th>\n",
              "      <th>High</th>\n",
              "      <th>Low</th>\n",
              "      <th>Last</th>\n",
              "      <th>Close</th>\n",
              "      <th>Total Trade Quantity</th>\n",
              "      <th>Turnover (Lacs)</th>\n",
              "    </tr>\n",
              "  </thead>\n",
              "  <tbody>\n",
              "    <tr>\n",
              "      <th>2034</th>\n",
              "      <td>2010-07-21</td>\n",
              "      <td>122.1</td>\n",
              "      <td>123.00</td>\n",
              "      <td>121.05</td>\n",
              "      <td>121.10</td>\n",
              "      <td>121.55</td>\n",
              "      <td>658666</td>\n",
              "      <td>803.56</td>\n",
              "    </tr>\n",
              "    <tr>\n",
              "      <th>2033</th>\n",
              "      <td>2010-07-22</td>\n",
              "      <td>120.3</td>\n",
              "      <td>122.00</td>\n",
              "      <td>120.25</td>\n",
              "      <td>120.75</td>\n",
              "      <td>120.90</td>\n",
              "      <td>293312</td>\n",
              "      <td>355.17</td>\n",
              "    </tr>\n",
              "    <tr>\n",
              "      <th>2032</th>\n",
              "      <td>2010-07-23</td>\n",
              "      <td>121.8</td>\n",
              "      <td>121.95</td>\n",
              "      <td>120.25</td>\n",
              "      <td>120.35</td>\n",
              "      <td>120.65</td>\n",
              "      <td>281312</td>\n",
              "      <td>340.31</td>\n",
              "    </tr>\n",
              "    <tr>\n",
              "      <th>2031</th>\n",
              "      <td>2010-07-26</td>\n",
              "      <td>120.1</td>\n",
              "      <td>121.00</td>\n",
              "      <td>117.10</td>\n",
              "      <td>117.10</td>\n",
              "      <td>117.60</td>\n",
              "      <td>658440</td>\n",
              "      <td>780.01</td>\n",
              "    </tr>\n",
              "    <tr>\n",
              "      <th>2030</th>\n",
              "      <td>2010-07-27</td>\n",
              "      <td>117.6</td>\n",
              "      <td>119.50</td>\n",
              "      <td>112.00</td>\n",
              "      <td>118.80</td>\n",
              "      <td>118.65</td>\n",
              "      <td>586100</td>\n",
              "      <td>694.98</td>\n",
              "    </tr>\n",
              "  </tbody>\n",
              "</table>\n",
              "</div>\n",
              "      <button class=\"colab-df-convert\" onclick=\"convertToInteractive('df-53b9819d-0a36-4a58-9591-77f3ad633ef6')\"\n",
              "              title=\"Convert this dataframe to an interactive table.\"\n",
              "              style=\"display:none;\">\n",
              "        \n",
              "  <svg xmlns=\"http://www.w3.org/2000/svg\" height=\"24px\"viewBox=\"0 0 24 24\"\n",
              "       width=\"24px\">\n",
              "    <path d=\"M0 0h24v24H0V0z\" fill=\"none\"/>\n",
              "    <path d=\"M18.56 5.44l.94 2.06.94-2.06 2.06-.94-2.06-.94-.94-2.06-.94 2.06-2.06.94zm-11 1L8.5 8.5l.94-2.06 2.06-.94-2.06-.94L8.5 2.5l-.94 2.06-2.06.94zm10 10l.94 2.06.94-2.06 2.06-.94-2.06-.94-.94-2.06-.94 2.06-2.06.94z\"/><path d=\"M17.41 7.96l-1.37-1.37c-.4-.4-.92-.59-1.43-.59-.52 0-1.04.2-1.43.59L10.3 9.45l-7.72 7.72c-.78.78-.78 2.05 0 2.83L4 21.41c.39.39.9.59 1.41.59.51 0 1.02-.2 1.41-.59l7.78-7.78 2.81-2.81c.8-.78.8-2.07 0-2.86zM5.41 20L4 18.59l7.72-7.72 1.47 1.35L5.41 20z\"/>\n",
              "  </svg>\n",
              "      </button>\n",
              "      \n",
              "  <style>\n",
              "    .colab-df-container {\n",
              "      display:flex;\n",
              "      flex-wrap:wrap;\n",
              "      gap: 12px;\n",
              "    }\n",
              "\n",
              "    .colab-df-convert {\n",
              "      background-color: #E8F0FE;\n",
              "      border: none;\n",
              "      border-radius: 50%;\n",
              "      cursor: pointer;\n",
              "      display: none;\n",
              "      fill: #1967D2;\n",
              "      height: 32px;\n",
              "      padding: 0 0 0 0;\n",
              "      width: 32px;\n",
              "    }\n",
              "\n",
              "    .colab-df-convert:hover {\n",
              "      background-color: #E2EBFA;\n",
              "      box-shadow: 0px 1px 2px rgba(60, 64, 67, 0.3), 0px 1px 3px 1px rgba(60, 64, 67, 0.15);\n",
              "      fill: #174EA6;\n",
              "    }\n",
              "\n",
              "    [theme=dark] .colab-df-convert {\n",
              "      background-color: #3B4455;\n",
              "      fill: #D2E3FC;\n",
              "    }\n",
              "\n",
              "    [theme=dark] .colab-df-convert:hover {\n",
              "      background-color: #434B5C;\n",
              "      box-shadow: 0px 1px 3px 1px rgba(0, 0, 0, 0.15);\n",
              "      filter: drop-shadow(0px 1px 2px rgba(0, 0, 0, 0.3));\n",
              "      fill: #FFFFFF;\n",
              "    }\n",
              "  </style>\n",
              "\n",
              "      <script>\n",
              "        const buttonEl =\n",
              "          document.querySelector('#df-53b9819d-0a36-4a58-9591-77f3ad633ef6 button.colab-df-convert');\n",
              "        buttonEl.style.display =\n",
              "          google.colab.kernel.accessAllowed ? 'block' : 'none';\n",
              "\n",
              "        async function convertToInteractive(key) {\n",
              "          const element = document.querySelector('#df-53b9819d-0a36-4a58-9591-77f3ad633ef6');\n",
              "          const dataTable =\n",
              "            await google.colab.kernel.invokeFunction('convertToInteractive',\n",
              "                                                     [key], {});\n",
              "          if (!dataTable) return;\n",
              "\n",
              "          const docLinkHtml = 'Like what you see? Visit the ' +\n",
              "            '<a target=\"_blank\" href=https://colab.research.google.com/notebooks/data_table.ipynb>data table notebook</a>'\n",
              "            + ' to learn more about interactive tables.';\n",
              "          element.innerHTML = '';\n",
              "          dataTable['output_type'] = 'display_data';\n",
              "          await google.colab.output.renderOutput(dataTable, element);\n",
              "          const docLink = document.createElement('div');\n",
              "          docLink.innerHTML = docLinkHtml;\n",
              "          element.appendChild(docLink);\n",
              "        }\n",
              "      </script>\n",
              "    </div>\n",
              "  </div>\n",
              "  "
            ]
          },
          "metadata": {},
          "execution_count": 9
        }
      ]
    },
    {
      "cell_type": "code",
      "source": [
        "plt.figure(figsize = (9,6))\n",
        "plt.title('Tata Stocks Closing Price')\n",
        "plt.plot(d['Close'],'r')\n",
        "plt.xlabel('Date',fontsize=13)\n",
        "plt.ylabel('Close',fontsize=13)"
      ],
      "metadata": {
        "colab": {
          "base_uri": "https://localhost:8080/",
          "height": 424
        },
        "id": "Oq9oXkj3-z6e",
        "outputId": "d26655e3-71cc-4120-8297-d296c7e21a95"
      },
      "execution_count": 10,
      "outputs": [
        {
          "output_type": "execute_result",
          "data": {
            "text/plain": [
              "Text(0, 0.5, 'Close')"
            ]
          },
          "metadata": {},
          "execution_count": 10
        },
        {
          "output_type": "display_data",
          "data": {
            "text/plain": [
              "<Figure size 648x432 with 1 Axes>"
            ],
            "image/png": "[encoded data removed]"
          },
          "metadata": {
            "needs_background": "light"
          }
        }
      ]
    },
    {
      "cell_type": "code",
      "source": [
        "data_close = d.reset_index()['Close']\n",
        "data_close.head()\n",
        "scaler = MinMaxScaler(feature_range = (0, 1))\n",
        "data_close = scaler.fit_transform(np.array(data_close).reshape(-1, 1))"
      ],
      "metadata": {
        "id": "22em4auP_CKV"
      },
      "execution_count": 11,
      "outputs": []
    },
    {
      "cell_type": "code",
      "source": [
        "train_size = int(len(data_close)*0.70)\n",
        "test_size = len(data_close) - train_size\n",
        "train, test = data_close[0 : train_size, :], data_close[train_size : len(data_close), :1]"
      ],
      "metadata": {
        "id": "1b3_c2Vm_Ggq"
      },
      "execution_count": 12,
      "outputs": []
    },
    {
      "cell_type": "code",
      "source": [
        "def create_matrix(ds, time_step=1):\n",
        "    dataX, dataY = [], []\n",
        "    for i in range(len(ds)-time_step-1):\n",
        "        a = ds[i:(i+time_step),0]\n",
        "        dataX.append(a)\n",
        "        dataY.append(ds[i+time_step,0])\n",
        "    return np.array(dataX), np.array(dataY)"
      ],
      "metadata": {
        "id": "IpITW8xq_LhP"
      },
      "execution_count": 13,
      "outputs": []
    },
    {
      "cell_type": "code",
      "source": [
        "step=100 \n",
        "X_train, y_train = create_matrix(train, step)\n",
        "X_test, y_test = create_matrix(test, step)\n",
        "print(X_train.shape, y_train.shape)\n",
        "print(X_test.shape, y_test.shape)"
      ],
      "metadata": {
        "colab": {
          "base_uri": "https://localhost:8080/"
        },
        "id": "XEEI0kXw_QCL",
        "outputId": "66d2c110-696b-4f27-b43c-0ac00d559d09"
      },
      "execution_count": 14,
      "outputs": [
        {
          "output_type": "stream",
          "name": "stdout",
          "text": [
            "(1323, 100) (1323,)\n",
            "(510, 100) (510,)\n"
          ]
        }
      ]
    },
    {
      "cell_type": "code",
      "source": [
        "model = Sequential()\n",
        "model.add(LSTM(50, return_sequences=True,input_shape=(100,1)))\n",
        "model.add(LSTM(50,return_sequences=True))\n",
        "model.add(LSTM(50))\n",
        "model.add(Dense(1))\n",
        "model.compile(loss='mean_squared_error',optimizer='adam')"
      ],
      "metadata": {
        "id": "XsgwWrzf_UtD"
      },
      "execution_count": 15,
      "outputs": []
    },
    {
      "cell_type": "code",
      "source": [
        "model.summary()"
      ],
      "metadata": {
        "colab": {
          "base_uri": "https://localhost:8080/"
        },
        "id": "IUbp8j6R_bLZ",
        "outputId": "2d468f99-6a29-4747-8a61-ffb39ce6bd39"
      },
      "execution_count": 16,
      "outputs": [
        {
          "output_type": "stream",
          "name": "stdout",
          "text": [
            "Model: \"sequential\"\n",
            "_________________________________________________________________\n",
            " Layer (type)                Output Shape              Param #   \n",
            "=================================================================\n",
            " lstm (LSTM)                 (None, 100, 50)           10400     \n",
            "                                                                 \n",
            " lstm_1 (LSTM)               (None, 100, 50)           20200     \n",
            "                                                                 \n",
            " lstm_2 (LSTM)               (None, 50)                20200     \n",
            "                                                                 \n",
            " dense (Dense)               (None, 1)                 51        \n",
            "                                                                 \n",
            "=================================================================\n",
            "Total params: 50,851\n",
            "Trainable params: 50,851\n",
            "Non-trainable params: 0\n",
            "_________________________________________________________________\n"
          ]
        }
      ]
    },
    {
      "cell_type": "code",
      "source": [
        "history = model.fit(X_train, y_train, validation_split=0.1, epochs=77, batch_size=64, verbose=1, shuffle=True).history"
      ],
      "metadata": {
        "colab": {
          "base_uri": "https://localhost:8080/"
        },
        "id": "oLcKFpL2_dox",
        "outputId": "8e2e3357-f753-4509-847f-93f08bf21b27"
      },
      "execution_count": 17,
      "outputs": [
        {
          "output_type": "stream",
          "name": "stdout",
          "text": [
            "Epoch 1/77\n",
            "19/19 [==============================] - 9s 229ms/step - loss: 0.0077 - val_loss: 0.0032\n",
            "Epoch 2/77\n",
            "19/19 [==============================] - 3s 164ms/step - loss: 0.0016 - val_loss: 0.0013\n",
            "Epoch 3/77\n",
            "19/19 [==============================] - 3s 159ms/step - loss: 9.6402e-04 - val_loss: 0.0012\n",
            "Epoch 4/77\n",
            "19/19 [==============================] - 3s 165ms/step - loss: 8.7523e-04 - val_loss: 0.0011\n",
            "Epoch 5/77\n",
            "19/19 [==============================] - 3s 165ms/step - loss: 8.2745e-04 - val_loss: 0.0011\n",
            "Epoch 6/77\n",
            "19/19 [==============================] - 3s 159ms/step - loss: 7.9126e-04 - val_loss: 0.0011\n",
            "Epoch 7/77\n",
            "19/19 [==============================] - 3s 158ms/step - loss: 7.6588e-04 - val_loss: 9.5769e-04\n",
            "Epoch 8/77\n",
            "19/19 [==============================] - 3s 158ms/step - loss: 7.4022e-04 - val_loss: 9.1443e-04\n",
            "Epoch 9/77\n",
            "19/19 [==============================] - 3s 166ms/step - loss: 7.4106e-04 - val_loss: 9.0096e-04\n",
            "Epoch 10/77\n",
            "19/19 [==============================] - 3s 165ms/step - loss: 6.8319e-04 - val_loss: 7.8410e-04\n",
            "Epoch 11/77\n",
            "19/19 [==============================] - 3s 165ms/step - loss: 7.0621e-04 - val_loss: 7.4622e-04\n",
            "Epoch 12/77\n",
            "19/19 [==============================] - 3s 162ms/step - loss: 6.5678e-04 - val_loss: 7.4999e-04\n",
            "Epoch 13/77\n",
            "19/19 [==============================] - 3s 167ms/step - loss: 6.1311e-04 - val_loss: 6.9918e-04\n",
            "Epoch 14/77\n",
            "19/19 [==============================] - 3s 164ms/step - loss: 5.9065e-04 - val_loss: 8.5541e-04\n",
            "Epoch 15/77\n",
            "19/19 [==============================] - 3s 164ms/step - loss: 6.3199e-04 - val_loss: 6.5802e-04\n",
            "Epoch 16/77\n",
            "19/19 [==============================] - 3s 164ms/step - loss: 6.2824e-04 - val_loss: 6.0223e-04\n",
            "Epoch 17/77\n",
            "19/19 [==============================] - 4s 190ms/step - loss: 5.7224e-04 - val_loss: 5.8130e-04\n",
            "Epoch 18/77\n",
            "19/19 [==============================] - 3s 162ms/step - loss: 5.2892e-04 - val_loss: 6.2903e-04\n",
            "Epoch 19/77\n",
            "19/19 [==============================] - 3s 164ms/step - loss: 5.3553e-04 - val_loss: 5.6439e-04\n",
            "Epoch 20/77\n",
            "19/19 [==============================] - 3s 165ms/step - loss: 5.5748e-04 - val_loss: 5.8982e-04\n",
            "Epoch 21/77\n",
            "19/19 [==============================] - 3s 159ms/step - loss: 5.6353e-04 - val_loss: 5.4848e-04\n",
            "Epoch 22/77\n",
            "19/19 [==============================] - 3s 161ms/step - loss: 4.8919e-04 - val_loss: 5.1234e-04\n",
            "Epoch 23/77\n",
            "19/19 [==============================] - 3s 166ms/step - loss: 4.5859e-04 - val_loss: 4.7475e-04\n",
            "Epoch 24/77\n",
            "19/19 [==============================] - 3s 159ms/step - loss: 4.4701e-04 - val_loss: 4.5666e-04\n",
            "Epoch 25/77\n",
            "19/19 [==============================] - 3s 160ms/step - loss: 4.3365e-04 - val_loss: 4.8365e-04\n",
            "Epoch 26/77\n",
            "19/19 [==============================] - 3s 160ms/step - loss: 4.1696e-04 - val_loss: 4.4191e-04\n",
            "Epoch 27/77\n",
            "19/19 [==============================] - 3s 171ms/step - loss: 4.2794e-04 - val_loss: 4.1590e-04\n",
            "Epoch 28/77\n",
            "19/19 [==============================] - 3s 164ms/step - loss: 4.2152e-04 - val_loss: 5.0750e-04\n",
            "Epoch 29/77\n",
            "19/19 [==============================] - 3s 164ms/step - loss: 4.2440e-04 - val_loss: 3.8687e-04\n",
            "Epoch 30/77\n",
            "19/19 [==============================] - 3s 163ms/step - loss: 3.9553e-04 - val_loss: 3.6287e-04\n",
            "Epoch 31/77\n",
            "19/19 [==============================] - 3s 161ms/step - loss: 3.7514e-04 - val_loss: 3.5502e-04\n",
            "Epoch 32/77\n",
            "19/19 [==============================] - 3s 166ms/step - loss: 3.6777e-04 - val_loss: 4.1377e-04\n",
            "Epoch 33/77\n",
            "19/19 [==============================] - 3s 162ms/step - loss: 3.5328e-04 - val_loss: 3.2524e-04\n",
            "Epoch 34/77\n",
            "19/19 [==============================] - 3s 165ms/step - loss: 3.4590e-04 - val_loss: 3.0946e-04\n",
            "Epoch 35/77\n",
            "19/19 [==============================] - 3s 162ms/step - loss: 3.2680e-04 - val_loss: 2.9892e-04\n",
            "Epoch 36/77\n",
            "19/19 [==============================] - 3s 171ms/step - loss: 3.2037e-04 - val_loss: 2.8430e-04\n",
            "Epoch 37/77\n",
            "19/19 [==============================] - 3s 164ms/step - loss: 3.0181e-04 - val_loss: 3.1383e-04\n",
            "Epoch 38/77\n",
            "19/19 [==============================] - 3s 165ms/step - loss: 3.1871e-04 - val_loss: 3.9563e-04\n",
            "Epoch 39/77\n",
            "19/19 [==============================] - 3s 165ms/step - loss: 3.3126e-04 - val_loss: 2.6538e-04\n",
            "Epoch 40/77\n",
            "19/19 [==============================] - 3s 165ms/step - loss: 2.9197e-04 - val_loss: 2.7408e-04\n",
            "Epoch 41/77\n",
            "19/19 [==============================] - 3s 167ms/step - loss: 2.7091e-04 - val_loss: 2.4509e-04\n",
            "Epoch 42/77\n",
            "19/19 [==============================] - 3s 161ms/step - loss: 2.9759e-04 - val_loss: 2.3625e-04\n",
            "Epoch 43/77\n",
            "19/19 [==============================] - 3s 159ms/step - loss: 3.1431e-04 - val_loss: 2.4030e-04\n",
            "Epoch 44/77\n",
            "19/19 [==============================] - 3s 159ms/step - loss: 2.7596e-04 - val_loss: 2.5767e-04\n",
            "Epoch 45/77\n",
            "19/19 [==============================] - 3s 164ms/step - loss: 2.5778e-04 - val_loss: 2.1828e-04\n",
            "Epoch 46/77\n",
            "19/19 [==============================] - 3s 171ms/step - loss: 2.5476e-04 - val_loss: 2.0918e-04\n",
            "Epoch 47/77\n",
            "19/19 [==============================] - 3s 169ms/step - loss: 2.4236e-04 - val_loss: 2.1199e-04\n",
            "Epoch 48/77\n",
            "19/19 [==============================] - 3s 162ms/step - loss: 2.3506e-04 - val_loss: 2.0661e-04\n",
            "Epoch 49/77\n",
            "19/19 [==============================] - 3s 163ms/step - loss: 2.4788e-04 - val_loss: 2.4705e-04\n",
            "Epoch 50/77\n",
            "19/19 [==============================] - 3s 165ms/step - loss: 2.2969e-04 - val_loss: 1.9480e-04\n",
            "Epoch 51/77\n",
            "19/19 [==============================] - 3s 163ms/step - loss: 2.3663e-04 - val_loss: 1.8484e-04\n",
            "Epoch 52/77\n",
            "19/19 [==============================] - 3s 163ms/step - loss: 2.1703e-04 - val_loss: 2.1331e-04\n",
            "Epoch 53/77\n",
            "19/19 [==============================] - 3s 164ms/step - loss: 2.3083e-04 - val_loss: 1.7586e-04\n",
            "Epoch 54/77\n",
            "19/19 [==============================] - 3s 165ms/step - loss: 2.1248e-04 - val_loss: 1.7615e-04\n",
            "Epoch 55/77\n",
            "19/19 [==============================] - 3s 162ms/step - loss: 2.1944e-04 - val_loss: 1.6838e-04\n",
            "Epoch 56/77\n",
            "19/19 [==============================] - 3s 164ms/step - loss: 2.4119e-04 - val_loss: 1.7991e-04\n",
            "Epoch 57/77\n",
            "19/19 [==============================] - 3s 160ms/step - loss: 1.9946e-04 - val_loss: 1.7586e-04\n",
            "Epoch 58/77\n",
            "19/19 [==============================] - 3s 165ms/step - loss: 1.9623e-04 - val_loss: 1.6772e-04\n",
            "Epoch 59/77\n",
            "19/19 [==============================] - 3s 171ms/step - loss: 1.8577e-04 - val_loss: 1.6181e-04\n",
            "Epoch 60/77\n",
            "19/19 [==============================] - 3s 162ms/step - loss: 1.9388e-04 - val_loss: 1.5514e-04\n",
            "Epoch 61/77\n",
            "19/19 [==============================] - 3s 164ms/step - loss: 1.9236e-04 - val_loss: 1.7502e-04\n",
            "Epoch 62/77\n",
            "19/19 [==============================] - 3s 165ms/step - loss: 1.8128e-04 - val_loss: 1.5147e-04\n",
            "Epoch 63/77\n",
            "19/19 [==============================] - 3s 159ms/step - loss: 1.7880e-04 - val_loss: 1.8213e-04\n",
            "Epoch 64/77\n",
            "19/19 [==============================] - 3s 160ms/step - loss: 1.7615e-04 - val_loss: 1.4336e-04\n",
            "Epoch 65/77\n",
            "19/19 [==============================] - 3s 168ms/step - loss: 1.7708e-04 - val_loss: 1.4386e-04\n",
            "Epoch 66/77\n",
            "19/19 [==============================] - 3s 161ms/step - loss: 1.8710e-04 - val_loss: 1.7625e-04\n",
            "Epoch 67/77\n",
            "19/19 [==============================] - 3s 163ms/step - loss: 1.6405e-04 - val_loss: 1.5671e-04\n",
            "Epoch 68/77\n",
            "19/19 [==============================] - 3s 160ms/step - loss: 1.7428e-04 - val_loss: 1.7163e-04\n",
            "Epoch 69/77\n",
            "19/19 [==============================] - 3s 160ms/step - loss: 1.6900e-04 - val_loss: 1.4710e-04\n",
            "Epoch 70/77\n",
            "19/19 [==============================] - 3s 163ms/step - loss: 1.5780e-04 - val_loss: 1.2941e-04\n",
            "Epoch 71/77\n",
            "19/19 [==============================] - 3s 166ms/step - loss: 1.5408e-04 - val_loss: 1.2827e-04\n",
            "Epoch 72/77\n",
            "19/19 [==============================] - 3s 161ms/step - loss: 1.6516e-04 - val_loss: 1.2853e-04\n",
            "Epoch 73/77\n",
            "19/19 [==============================] - 3s 162ms/step - loss: 1.6057e-04 - val_loss: 1.4437e-04\n",
            "Epoch 74/77\n",
            "19/19 [==============================] - 3s 166ms/step - loss: 1.5486e-04 - val_loss: 1.6697e-04\n",
            "Epoch 75/77\n",
            "19/19 [==============================] - 3s 162ms/step - loss: 1.8566e-04 - val_loss: 1.4874e-04\n",
            "Epoch 76/77\n",
            "19/19 [==============================] - 3s 160ms/step - loss: 1.6750e-04 - val_loss: 1.7845e-04\n",
            "Epoch 77/77\n",
            "19/19 [==============================] - 3s 171ms/step - loss: 1.5522e-04 - val_loss: 1.3557e-04\n"
          ]
        }
      ]
    },
    {
      "cell_type": "code",
      "source": [
        "train_predict = model.predict(X_train)\n",
        "test_predict = model.predict(X_test)"
      ],
      "metadata": {
        "id": "QU0X000NAtME"
      },
      "execution_count": 18,
      "outputs": []
    },
    {
      "cell_type": "code",
      "source": [
        "train_predict = scaler.inverse_transform(train_predict)\n",
        "test_predict = scaler.inverse_transform(test_predict)"
      ],
      "metadata": {
        "id": "Oth9qwJRAyJd"
      },
      "execution_count": 19,
      "outputs": []
    },
    {
      "cell_type": "code",
      "source": [
        "math.sqrt(mean_squared_error(y_train, train_predict))\n",
        "math.sqrt(mean_squared_error(y_test,test_predict))"
      ],
      "metadata": {
        "colab": {
          "base_uri": "https://localhost:8080/"
        },
        "id": "8YGJHG3xA3Xi",
        "outputId": "0691cada-c657-44b5-d7c9-1a92548781e8"
      },
      "execution_count": 20,
      "outputs": [
        {
          "output_type": "execute_result",
          "data": {
            "text/plain": [
              "204.1642597954123"
            ]
          },
          "metadata": {},
          "execution_count": 20
        }
      ]
    },
    {
      "cell_type": "code",
      "source": [
        "look_back = 100\n",
        "train_num_pyredict_plot = np.empty_like(data_close)\n",
        "train_num_pyredict_plot[:, :] = np.nan\n",
        "train_num_pyredict_plot[look_back : len(train_predict) + look_back, :] = train_predict\n",
        "test_predict_plot = np.empty_like(data_close)\n",
        "test_predict_plot[:, :] = np.nan\n",
        "test_predict_plot[len(train_predict) + (look_back * 2) + 1 : len(data_close) - 1, :] = test_predict\n",
        "plt.plot(scaler.inverse_transform(data_close))\n",
        "plt.plot(train_num_pyredict_plot)\n",
        "plt.plot(test_predict_plot)\n",
        "plt.show()"
      ],
      "metadata": {
        "colab": {
          "base_uri": "https://localhost:8080/",
          "height": 265
        },
        "id": "qzO6vgdbA9qW",
        "outputId": "54e70c17-4760-4ddf-df14-73e11512742d"
      },
      "execution_count": 21,
      "outputs": [
        {
          "output_type": "display_data",
          "data": {
            "text/plain": [
              "<Figure size 432x288 with 1 Axes>"
            ],
            "image/png": "[encoded data removed]"
          },
          "metadata": {
            "needs_background": "light"
          }
        }
      ]
    },
    {
      "cell_type": "code",
      "source": [
        "x_inum_pyut=test[307:].reshape(1, -1)\n",
        "x_inum_pyut.shape\n",
        "temp_inum_pyut = list(x_inum_pyut)\n",
        "temp_inum_pyut = temp_inum_pyut[0].tolist()\n",
        "temp_inum_pyut = list(x_inum_pyut)\n",
        "temp_inum_pyut = temp_inum_pyut[0].tolist()"
      ],
      "metadata": {
        "id": "MR7FfT03BBvj"
      },
      "execution_count": 22,
      "outputs": []
    },
    {
      "cell_type": "code",
      "source": [
        "day_new = np.arange(1, 101)\n",
        "day_pred = np.arange(101, 131)\n",
        "plt.plot(day_new, scaler.inverse_transform(data_close[1935 : ])) "
      ],
      "metadata": {
        "colab": {
          "base_uri": "https://localhost:8080/",
          "height": 282
        },
        "id": "zmyW5ho3BEuX",
        "outputId": "bd5782ad-1677-4f80-80bb-3a84e72e4670"
      },
      "execution_count": 23,
      "outputs": [
        {
          "output_type": "execute_result",
          "data": {
            "text/plain": [
              "[<matplotlib.lines.Line2D at 0x7fcc2daccb90>]"
            ]
          },
          "metadata": {},
          "execution_count": 23
        },
        {
          "output_type": "display_data",
          "data": {
            "text/plain": [
              "<Figure size 432x288 with 1 Axes>"
            ],
            "image/png": "[encoded data removed]"
          },
          "metadata": {
            "needs_background": "light"
          }
        }
      ]
    }
  ]
}